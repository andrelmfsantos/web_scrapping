{
 "cells": [
  {
   "cell_type": "code",
   "execution_count": 1,
   "metadata": {},
   "outputs": [],
   "source": [
    "from urllib.request import urlopen\n",
    "from bs4 import BeautifulSoup"
   ]
  },
  {
   "cell_type": "code",
   "execution_count": 10,
   "metadata": {},
   "outputs": [],
   "source": [
    "html = urlopen(\"file:///C:/Users/andre/OneDrive/%C3%81rea%20de%20Trabalho/hello.html\")"
   ]
  },
  {
   "cell_type": "code",
   "execution_count": 11,
   "metadata": {},
   "outputs": [],
   "source": [
    "bsObj = BeautifulSoup(html.read(), \"html.parser\")"
   ]
  },
  {
   "cell_type": "code",
   "execution_count": 12,
   "metadata": {},
   "outputs": [
    {
     "name": "stdout",
     "output_type": "stream",
     "text": [
      "<h1>Python Web Scraping</h1>\n",
      "<title>Testando servidor web</title>\n",
      "[<h1>Python Web Scraping</h1>, <h1>Aula 2</h1>, <h1>Python Web Scraping</h1>]\n"
     ]
    }
   ],
   "source": [
    "print(bsObj.h1)\n",
    "print(bsObj.title)\n",
    "print(bsObj.find_all(\"h1\"))"
   ]
  },
  {
   "cell_type": "code",
   "execution_count": 13,
   "metadata": {},
   "outputs": [
    {
     "name": "stdout",
     "output_type": "stream",
     "text": [
      "<a href=\"https://www.metodosexatos.com/\">Métodos Exatos</a>\n",
      "<a href=\"https://julialang.com.br/\">Linguagem Julia</a>\n",
      "<a href=\"https://www.facebook.com/\">Facebook</a>\n",
      "<a href=\"https://www.linkedin.com/feed/\">LinkedIn</a>\n"
     ]
    }
   ],
   "source": [
    "# Pegar os links da página:\n",
    "for link in bsObj.find_all('a'):\n",
    "    print(link)"
   ]
  },
  {
   "cell_type": "code",
   "execution_count": 14,
   "metadata": {},
   "outputs": [
    {
     "name": "stdout",
     "output_type": "stream",
     "text": [
      "https://www.metodosexatos.com/\n",
      "https://julialang.com.br/\n",
      "https://www.facebook.com/\n",
      "https://www.linkedin.com/feed/\n"
     ]
    }
   ],
   "source": [
    "# Pegar os links da página:\n",
    "for link in bsObj.find_all('a'):\n",
    "    print(link.get('href'))"
   ]
  },
  {
   "cell_type": "code",
   "execution_count": 17,
   "metadata": {},
   "outputs": [
    {
     "name": "stdout",
     "output_type": "stream",
     "text": [
      "None\n",
      "None\n",
      "https://www.metodosexatos.com/carrinho-2/\n",
      "https://www.metodosexatos.com/\n",
      "https://www.metodosexatos.com/cursos/\n",
      "https://www.metodosexatos.com/news/\n",
      "https://www.metodosexatos.com/sobre-nos/\n",
      "https://www.metodosexatos.com/fale-conosco/\n",
      "https://www.metodosexatos.com\n",
      "https://www.metodosexatos.com/cursos/\n",
      "https://www.metodosexatos.com/news/\n",
      "https://www.metodosexatos.com/fale-conosco/\n",
      "None\n",
      "#login\n",
      "None\n",
      "None\n",
      "https://www.metodosexatos.com/\n",
      "https://www.metodosexatos.com/wp-login.php?action=lostpassword\n",
      "https://www.metodosexatos.com/registrar/\n",
      "None\n",
      "https://www.metodosexatos.com/course-cat/estatistica/formacao-estatistica-aplicada-com-excel/\n",
      "https://www.metodosexatos.com/course-cat/ciencias-sociais-aplicadas/\n",
      "https://www.metodosexatos.com/course-cat/matematica/\n",
      "https://www.metodosexatos.com/course-cat/estatistica/bayesiana/\n",
      "https://www.metodosexatos.com/testimonial/debora-luana-ribeiro-pessoa/\n",
      "https://www.metodosexatos.com/testimonial/cintia-gaspar/\n",
      "https://www.metodosexatos.com/testimonial/serley-silva/\n",
      "https://www.metodosexatos.com/testimonial/anderson-almeida/\n",
      "https://www.metodosexatos.com/testimonial/anderson-almeida/\n",
      "https://www.metodosexatos.com/testimonial/angelica-rodrigues-de-lima/\n",
      "https://www.metodosexatos.com/testimonial/angelica-rodrigues-de-lima/\n",
      "https://www.metodosexatos.com/testimonial/francisco-cadete/\n",
      "https://www.metodosexatos.com/testimonial/guilherme-araujo/\n",
      "https://www.metodosexatos.com/testimonial/guilherme-araujo/\n",
      "https://www.metodosexatos.com/testimonial/leonardo-felipe-das-chagas/\n",
      "https://www.metodosexatos.com/testimonial/fabio-baum/\n",
      "https://www.metodosexatos.com/testimonial/fabio-baum/\n",
      "https://www.metodosexatos.com/testimonial/ramiro-nery-de-souza/\n",
      "https://www.metodosexatos.com/course/marketing-mix-model/\n",
      "https://www.metodosexatos.com/course/marketing-mix-model/\n",
      "https://www.metodosexatos.com/members/andre/\n",
      "https://www.metodosexatos.com/course/regressao-logistica-aplicada-em-marketing/\n",
      "https://www.metodosexatos.com/course/regressao-logistica-aplicada-em-marketing/\n",
      "https://www.metodosexatos.com/members/andre/\n",
      "https://www.metodosexatos.com/wp-content/uploads/2020/02/ES10_Apresentacao_editado.mp4\n",
      "https://www.metodosexatos.com/course/testes-de-hipoteses-com-duas-amostras/\n",
      "https://www.metodosexatos.com/members/andre/\n",
      "https://www.metodosexatos.com/wp-content/uploads/2020/02/THUAES10_Video_Divulgacao_Capa_02min17.mp4\n",
      "https://www.metodosexatos.com/course/testes-de-hipoteses-com-uma-amostra/\n",
      "https://www.metodosexatos.com/members/andre/\n",
      "https://www.metodosexatos.com/wp-content/uploads/2020/02/Curso-IC-Video-Pg-Curso.mp4\n",
      "https://www.metodosexatos.com/course/intervalos-de-confianca/\n",
      "https://www.metodosexatos.com/members/andre/\n",
      "https://www.metodosexatos.com/wp-content/uploads/2019/12/ABSE_Intro.mp4\n",
      "https://www.metodosexatos.com/course/analise-bayesiana-de-dados-simulacao-estocastica-com-r/\n",
      "https://www.metodosexatos.com/members/andre/\n",
      "https://www.metodosexatos.com/course/planejamento-de-estudos-estatisticos-privado/\n",
      "https://www.metodosexatos.com/course/planejamento-de-estudos-estatisticos-privado/\n",
      "https://www.metodosexatos.com/members/metodosexatos/\n",
      "https://www.metodosexatos.com/wp-content/uploads/2019/11/151_Secao-4_MA_Objetivo_Metodos-Exatos_02min09s_udemy-1.mp4\n",
      "https://www.metodosexatos.com/course/analise-do-comportamento-do-consumidor-com-conjoint-analysis/\n",
      "https://www.metodosexatos.com/members/andre/\n",
      "https://www.metodosexatos.com/\n",
      "https://www.metodosexatos.com/sobre-nos/\n",
      "https://www.metodosexatos.com/loja/\n",
      "https://www.metodosexatos.com/news/\n",
      "https://www.metodosexatos.com/cursos-para-analise-de-dados/\n",
      "https://www.metodosexatos.com/fale-conosco/\n",
      "https://www.metodosexatos.com/course-cat/matematica/\n",
      "https://www.metodosexatos.com/course-cat/estatistica/\n",
      "https://www.metodosexatos.com/course-cat/estatistica/probabilidade/\n",
      "https://www.metodosexatos.com/course-cat/estatistica/formacao-estatistica-aplicada-com-excel/\n",
      "https://www.metodosexatos.com/course-cat/estatistica/bayesiana/\n",
      "https://www.metodosexatos.com/course-cat/computacao_cientifica/\n",
      "https://www.metodosexatos.com/course-cat/ciencias-sociais-aplicadas/\n",
      "None\n",
      "https://www.metodosexatos.com\n",
      "https://www.facebook.com/metodosexatos\n",
      "https://www.instagram.com/mexatos/\n",
      "https://www.linkedin.com/company/metodosexatos/\n"
     ]
    }
   ],
   "source": [
    "# Teste métodos exatos - pegar os links da página:\n",
    "html1 = urlopen(\"https://www.metodosexatos.com/\")\n",
    "bsObj1 = BeautifulSoup(html1.read(), \"html.parser\")\n",
    "for link1 in bsObj1.find_all('a'):\n",
    "    print(link1.get('href'))"
   ]
  },
  {
   "cell_type": "code",
   "execution_count": null,
   "metadata": {},
   "outputs": [],
   "source": [
    "#-------------- Tratando erros----------------------------------\n",
    "# from urllib.request import urlopen\n",
    "# from urllib.request import HTTPError\n",
    "# html = urlopen(\"http://www.udemy.com\")\n",
    "# print(f\"Html 1:{html}\"\")\n",
    "\n",
    "# try:\n",
    "#     html = urlopen(\"http://www.udemy.com/erro\")\n",
    "#     print(f\"Html 2: \"\"{html}\"\")\n",
    "# except HTTError as erro:\n",
    "#           print(erro)\n",
    "\n",
    "# try:\n",
    "#     html = urlopen(\"http://www.dksjsost.com\")\n",
    "# except URLError as erro:\n",
    "#           print(erro)\n",
    "          \n",
    "# html = urlopen(\"http://www.udemy.com\")\n",
    "#           print(f\"Html 3: {html}\")\n",
    "#\n",
    "# from urllib.request import urlopen\n",
    "# from bs4 import BeautifulSoup\n",
    "#\n",
    "# html = urlopen(\"http://www.udemy.com\")\n",
    "# bsObj = BeautifulSoup(html.read(),\"html.parser\")\n",
    "\n",
    "# try:\n",
    "#     resultado = bsObj.html.ta_nao_existente\n",
    "#     print(resultado)\n",
    "# except AttributeError as erro:\n",
    "#     print(erro)\n",
    "#--------------------------------------------------------------"
   ]
  }
 ],
 "metadata": {
  "kernelspec": {
   "display_name": "Python 3",
   "language": "python",
   "name": "python3"
  },
  "language_info": {
   "codemirror_mode": {
    "name": "ipython",
    "version": 3
   },
   "file_extension": ".py",
   "mimetype": "text/x-python",
   "name": "python",
   "nbconvert_exporter": "python",
   "pygments_lexer": "ipython3",
   "version": "3.7.4"
  }
 },
 "nbformat": 4,
 "nbformat_minor": 2
}
