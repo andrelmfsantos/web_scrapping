{
 "cells": [
  {
   "cell_type": "code",
   "execution_count": 4,
   "metadata": {},
   "outputs": [
    {
     "name": "stdout",
     "output_type": "stream",
     "text": [
      "../img/gifts/img1.jpg\n",
      "../img/gifts/img2.jpg\n",
      "../img/gifts/img3.jpg\n",
      "../img/gifts/img4.jpg\n",
      "../img/gifts/img6.jpg\n"
     ]
    }
   ],
   "source": [
    "from urllib.request import urlopen, Request\n",
    "from bs4 import BeautifulSoup\n",
    "import re\n",
    "\n",
    "html = urlopen(\"http://www.pythonscraping.com/pages/page3.html\")\n",
    "soup = BeautifulSoup(html, \"html.parser\")\n",
    "\n",
    "imagens = soup(\"img\", {\"src\":re.compile(\"\\.{2}/img/gifts/img\\d*\\.jpg\")})\n",
    "\n",
    "for imagem in imagens:\n",
    "    print(imagem[\"src\"])"
   ]
  },
  {
   "cell_type": "code",
   "execution_count": 11,
   "metadata": {},
   "outputs": [],
   "source": [
    "# Erro 403 porque alguns sites tratam scraping\n",
    "#html = urlopen(\"http://www.tudogostoso.com.br\")\n",
    "\n",
    "# Conteúdo sobre user-agent:\n",
    "# https://developer.mozilla.org/pt-BR/docs/Web/HTTP/Headers/User-Agent\n",
    "# O cabeçalho de requisição User-Agent contém uma string característica\n",
    "# que permite o protocolo de rede do cliente identificar o tipo de aplicação,\n",
    "# sistema operacional, fornecedor do software ou versão do software do agente\n",
    "# de usuário do software solicitante.\n",
    "req = Request(\"http://www.tudogostoso.com.br\", headers={'User-Agent': 'Mozilla/5.0'})\n",
    "html = urlopen(req).read()\n",
    "\n",
    "soup = BeautifulSoup(html, \"html.parser\")\n",
    "\n",
    "links = soup.findAll(\"a\", {\"href\":re.compile(\"/categorias/.*\\.php\")})\n",
    "\n",
    "for link in links:\n",
    "    print(link[\"href\"])"
   ]
  },
  {
   "cell_type": "code",
   "execution_count": 12,
   "metadata": {},
   "outputs": [],
   "source": [
    "# Quero só os links do folha.uol do mês 11 de 2017, da categoria mercado\n",
    "html = urlopen(\"https://www.folha.uol.com.br/\")\n",
    "soup = BeautifulSoup(html, \"html.parser\")\n",
    "links = soup.findAll(\"a\", {\"href\":re.compile(\".*\\.folha\\.uol\\.com\\.br/mercado/2017/11/.*\\.shtml\")})\n",
    "\n",
    "for link in links:\n",
    "    print(link[\"href\"])"
   ]
  },
  {
   "cell_type": "code",
   "execution_count": null,
   "metadata": {},
   "outputs": [],
   "source": []
  }
 ],
 "metadata": {
  "kernelspec": {
   "display_name": "Python 3",
   "language": "python",
   "name": "python3"
  },
  "language_info": {
   "codemirror_mode": {
    "name": "ipython",
    "version": 3
   },
   "file_extension": ".py",
   "mimetype": "text/x-python",
   "name": "python",
   "nbconvert_exporter": "python",
   "pygments_lexer": "ipython3",
   "version": "3.7.4"
  }
 },
 "nbformat": 4,
 "nbformat_minor": 2
}
