{
 "cells": [
  {
   "cell_type": "markdown",
   "metadata": {},
   "source": [
    "# Identificando informações de um website"
   ]
  },
  {
   "cell_type": "markdown",
   "metadata": {},
   "source": [
    "## 1. Biblioteca - builtwith"
   ]
  },
  {
   "cell_type": "markdown",
   "metadata": {},
   "source": [
    "**Identificando tecnologias utilizadas por um website utilizando a biblioterca builtwith**"
   ]
  },
  {
   "cell_type": "code",
   "execution_count": 6,
   "metadata": {
    "collapsed": true
   },
   "outputs": [
    {
     "name": "stdout",
     "output_type": "stream",
     "text": [
      "Requirement already satisfied: builtwith in c:\\users\\andre\\anaconda3\\lib\\site-packages (1.3.3)\n",
      "Requirement already satisfied: six in c:\\users\\andre\\anaconda3\\lib\\site-packages (from builtwith) (1.12.0)\n",
      "Note: you may need to restart the kernel to use updated packages.\n"
     ]
    }
   ],
   "source": [
    "pip install builtwith"
   ]
  },
  {
   "cell_type": "code",
   "execution_count": 2,
   "metadata": {},
   "outputs": [],
   "source": [
    "import builtwith"
   ]
  },
  {
   "cell_type": "code",
   "execution_count": 3,
   "metadata": {},
   "outputs": [
    {
     "data": {
      "text/plain": [
       "{'javascript-frameworks': ['RequireJS', 'Vue.js']}"
      ]
     },
     "execution_count": 3,
     "metadata": {},
     "output_type": "execute_result"
    }
   ],
   "source": [
    "builtwith.parse('https://www.facebook.com')"
   ]
  },
  {
   "cell_type": "code",
   "execution_count": 4,
   "metadata": {
    "collapsed": true
   },
   "outputs": [
    {
     "data": {
      "text/plain": [
       "{'web-servers': ['OpenResty', 'Nginx'],\n",
       " 'programming-languages': ['Lua', 'PHP'],\n",
       " 'font-scripts': ['Google Font API'],\n",
       " 'tag-managers': ['Google Tag Manager'],\n",
       " 'analytics': ['TrackJs'],\n",
       " 'web-frameworks': ['Twitter Bootstrap'],\n",
       " 'ecommerce': ['WooCommerce'],\n",
       " 'cms': ['WordPress'],\n",
       " 'blogs': ['PHP', 'WordPress'],\n",
       " 'marketing-automation': ['Yoast SEO'],\n",
       " 'javascript-frameworks': ['jQuery']}"
      ]
     },
     "execution_count": 4,
     "metadata": {},
     "output_type": "execute_result"
    }
   ],
   "source": [
    "builtwith.parse('https://www.metodosexatos.com')"
   ]
  },
  {
   "cell_type": "markdown",
   "metadata": {},
   "source": [
    "## 2. Biblioteca - python-whois"
   ]
  },
  {
   "cell_type": "markdown",
   "metadata": {},
   "source": [
    "**Identificando o proprietário de um Website**"
   ]
  },
  {
   "cell_type": "code",
   "execution_count": 7,
   "metadata": {
    "collapsed": true
   },
   "outputs": [
    {
     "name": "stdout",
     "output_type": "stream",
     "text": [
      "Collecting python-whois\n",
      "  Downloading python-whois-0.7.2.tar.gz (90 kB)\n",
      "Requirement already satisfied: future in c:\\users\\andre\\anaconda3\\lib\\site-packages (from python-whois) (0.17.1)\n",
      "Building wheels for collected packages: python-whois\n",
      "  Building wheel for python-whois (setup.py): started\n",
      "  Building wheel for python-whois (setup.py): finished with status 'done'\n",
      "  Created wheel for python-whois: filename=python_whois-0.7.2-py3-none-any.whl size=85249 sha256=58a71f8d8f8464ce0b7fd91b2a4fd353270b9feed1113425b032b70246d8483c\n",
      "  Stored in directory: c:\\users\\andre\\appdata\\local\\pip\\cache\\wheels\\76\\4b\\a8\\fa3d3aff363386155e0fffaecfa1ac076f171ebdac8f2fcb27\n",
      "Successfully built python-whois\n",
      "Installing collected packages: python-whois\n",
      "Successfully installed python-whois-0.7.2\n",
      "Note: you may need to restart the kernel to use updated packages.\n"
     ]
    }
   ],
   "source": [
    "pip install python-whois"
   ]
  },
  {
   "cell_type": "code",
   "execution_count": 8,
   "metadata": {},
   "outputs": [],
   "source": [
    "import whois"
   ]
  },
  {
   "cell_type": "code",
   "execution_count": 10,
   "metadata": {
    "collapsed": true
   },
   "outputs": [
    {
     "name": "stdout",
     "output_type": "stream",
     "text": [
      "{\n",
      "  \"domain_name\": \"GLOBO.COM\",\n",
      "  \"registrar\": \"1API GmbH\",\n",
      "  \"whois_server\": \"whois.1api.net\",\n",
      "  \"referral_url\": null,\n",
      "  \"updated_date\": [\n",
      "    \"2019-03-01 22:43:35\",\n",
      "    \"2018-05-23 16:27:41\"\n",
      "  ],\n",
      "  \"creation_date\": \"1998-12-21 05:00:00\",\n",
      "  \"expiration_date\": \"2025-12-21 05:00:00\",\n",
      "  \"name_servers\": [\n",
      "    \"NS01.GLOBO.COM\",\n",
      "    \"NS02.GLOBO.COM\",\n",
      "    \"NS03.GLOBO.COM\",\n",
      "    \"NS04.GLOBO.COM\",\n",
      "    \"ns01.globo.com 131.0.24.26 2804:0294:0100:0803:0131:0000:0024:0026\",\n",
      "    \"ns02.globo.com 186.192.89.18\",\n",
      "    \"ns03.globo.com 186.192.89.5 2804:0294:4000:8001:0000:0000:0000:0005\",\n",
      "    \"ns04.globo.com 177.53.95.213 2804:0294:8000:0200:0177:0053:0095:0213\"\n",
      "  ],\n",
      "  \"status\": [\n",
      "    \"clientDeleteProhibited https://icann.org/epp#clientDeleteProhibited\",\n",
      "    \"clientTransferProhibited https://icann.org/epp#clientTransferProhibited\",\n",
      "    \"clientDeleteProhibited - http://www.icann.org/epp#clientDeleteProhibited\",\n",
      "    \"clientTransferProhibited - http://www.icann.org/epp#clientTransferProhibited\"\n",
      "  ],\n",
      "  \"emails\": [\n",
      "    \"abuse@1api.net\",\n",
      "    \"dns-admin@corp.globo.com\",\n",
      "    \"dns-tech@corp.globo.com\"\n",
      "  ],\n",
      "  \"dnssec\": \"unsigned\",\n",
      "  \"name\": \"Globo Comunicacao e Participacoes S/A\",\n",
      "  \"org\": \"27.865.757/0001-02\",\n",
      "  \"address\": \"Rua Lopes Quintas\",\n",
      "  \"city\": \"Rio de Janeiro\",\n",
      "  \"state\": \"RJ\",\n",
      "  \"zipcode\": \"22460-010\",\n",
      "  \"country\": \"BR\"\n",
      "}\n"
     ]
    }
   ],
   "source": [
    "print(whois.whois('globo.com'))"
   ]
  },
  {
   "cell_type": "code",
   "execution_count": 11,
   "metadata": {
    "collapsed": true
   },
   "outputs": [
    {
     "name": "stdout",
     "output_type": "stream",
     "text": [
      "{\n",
      "  \"domain_name\": \"METODOSEXATOS.COM\",\n",
      "  \"registrar\": \"PDR Ltd. d/b/a PublicDomainRegistry.com\",\n",
      "  \"whois_server\": \"whois.publicdomainregistry.com\",\n",
      "  \"referral_url\": null,\n",
      "  \"updated_date\": [\n",
      "    \"2020-02-06 20:52:06\",\n",
      "    \"2020-02-06 20:52:07\"\n",
      "  ],\n",
      "  \"creation_date\": \"2017-03-01 14:32:43\",\n",
      "  \"expiration_date\": \"2021-03-01 14:32:43\",\n",
      "  \"name_servers\": [\n",
      "    \"NS1.DREAMHOST.COM\",\n",
      "    \"NS2.DREAMHOST.COM\",\n",
      "    \"NS3.DREAMHOST.COM\",\n",
      "    \"ns1.dreamhost.com\",\n",
      "    \"ns2.dreamhost.com\",\n",
      "    \"ns3.dreamhost.com\"\n",
      "  ],\n",
      "  \"status\": \"clientTransferProhibited https://icann.org/epp#clientTransferProhibited\",\n",
      "  \"emails\": [\n",
      "    \"abuse-contact@publicdomainregistry.com\",\n",
      "    \"info@redehost.com.br\"\n",
      "  ],\n",
      "  \"dnssec\": [\n",
      "    \"unsigned\",\n",
      "    \"Unsigned\"\n",
      "  ],\n",
      "  \"name\": \"Karinne Regina Simplicio Marques\",\n",
      "  \"org\": \"-\",\n",
      "  \"address\": \"Rua Estevao de Montebello, 643,  Vila Picinin\",\n",
      "  \"city\": \"Sao Paulo\",\n",
      "  \"state\": \"SP\",\n",
      "  \"zipcode\": \"02930000\",\n",
      "  \"country\": \"BR\"\n",
      "}\n"
     ]
    }
   ],
   "source": [
    "print(whois.whois('metodosexatos.com'))"
   ]
  }
 ],
 "metadata": {
  "kernelspec": {
   "display_name": "Python 3",
   "language": "python",
   "name": "python3"
  },
  "language_info": {
   "codemirror_mode": {
    "name": "ipython",
    "version": 3
   },
   "file_extension": ".py",
   "mimetype": "text/x-python",
   "name": "python",
   "nbconvert_exporter": "python",
   "pygments_lexer": "ipython3",
   "version": "3.7.4"
  }
 },
 "nbformat": 4,
 "nbformat_minor": 2
}
