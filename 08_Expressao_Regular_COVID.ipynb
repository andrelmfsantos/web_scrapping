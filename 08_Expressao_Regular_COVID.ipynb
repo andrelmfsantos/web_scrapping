{
 "cells": [
  {
   "cell_type": "code",
   "execution_count": null,
   "metadata": {},
   "outputs": [],
   "source": [
    "# http://www.pythonscraping.com/pages/page3.html\n",
    "# https://www.youtube.com/watch?v=Vxl5jUltHBo"
   ]
  },
  {
   "cell_type": "code",
   "execution_count": 4,
   "metadata": {},
   "outputs": [
    {
     "name": "stdout",
     "output_type": "stream",
     "text": [
      "https://coronavirus.saude.gov.br/\n",
      "https://coronavirus.saude.gov.br/sobre-a-doenca#o-que-e-covid\n",
      "https://coronavirus.saude.gov.br/sobre-a-doenca#sintomas\n",
      "https://coronavirus.saude.gov.br/sobre-a-doenca#transmissao\n",
      "https://coronavirus.saude.gov.br/sobre-a-doenca#diagnostico\n",
      "https://coronavirus.saude.gov.br/sobre-a-doenca#se-eu-ficar-doente\n",
      "https://coronavirus.saude.gov.br/sobre-a-doenca#servico-de-saude\n",
      "https://covid.saude.gov.br/\n",
      "https://www.gov.br/pt-br/apps/coronavirus-sus\n",
      "https://covid-insumos.saude.gov.br/paineis/insumos/painel.php\n",
      "https://coronavirus.saude.gov.br/profissional-gestor#epi\n",
      "https://portalarquivos.saude.gov.br/images/pdf/2020/April/20/doc-nota-tecnica-covid19---1-.pdf\n"
     ]
    },
    {
     "name": "stderr",
     "output_type": "stream",
     "text": [
      "Some characters could not be decoded, and were replaced with REPLACEMENT CHARACTER.\n"
     ]
    },
    {
     "name": "stdout",
     "output_type": "stream",
     "text": [
      "https://portalarquivos.saude.gov.br/images/pdf/2020/May/08/recomendacoes-pop-rua-covid19-17abril2020.pdf\n"
     ]
    },
    {
     "name": "stderr",
     "output_type": "stream",
     "text": [
      "Some characters could not be decoded, and were replaced with REPLACEMENT CHARACTER.\n"
     ]
    },
    {
     "name": "stdout",
     "output_type": "stream",
     "text": [
      "https://portalarquivos.saude.gov.br/images/pdf/2020/May/08/recomendacoes-profissionais-saude-campo-floresta-agua--covid19-17abril2020.pdf\n"
     ]
    },
    {
     "name": "stderr",
     "output_type": "stream",
     "text": [
      "Some characters could not be decoded, and were replaced with REPLACEMENT CHARACTER.\n"
     ]
    },
    {
     "name": "stdout",
     "output_type": "stream",
     "text": [
      "https://portalarquivos.saude.gov.br/images/pdf/2020/May/08/recomendacoes-prevencao-manejo-controle-covid19-17abril2020.pdf\n"
     ]
    },
    {
     "name": "stderr",
     "output_type": "stream",
     "text": [
      "Some characters could not be decoded, and were replaced with REPLACEMENT CHARACTER.\n"
     ]
    },
    {
     "name": "stdout",
     "output_type": "stream",
     "text": [
      "http://www.saude.gov.br/noticias/agencia-saude/46882-coronavirus-188-974-casos-confirmados-e-78-424-recuperados\n"
     ]
    },
    {
     "name": "stderr",
     "output_type": "stream",
     "text": [
      "Some characters could not be decoded, and were replaced with REPLACEMENT CHARACTER.\n"
     ]
    }
   ],
   "source": [
    "from urllib.request import urlopen\n",
    "from bs4 import BeautifulSoup\n",
    "import re\n",
    "\n",
    "paginas = set()\n",
    "paginas_invalidas = set()\n",
    "nova_pagina = \"\"\n",
    "\n",
    "def getLinks(url_da_pagina):\n",
    "    global paginas\n",
    "    global paginas_invalidas\n",
    "    \n",
    "    try:\n",
    "        if url_da_pagina not in paginas_invalidas:\n",
    "            html= urlopen(url_da_pagina)\n",
    "            bsObj = BeautifulSoup(html, \"html.parser\")\n",
    "            serie_a_g6_2017 = ('.covid-19.|.covid.|.coronavírus.|.coronavirus.|.pandemia.')\n",
    "            \n",
    "            for link in bsObj.findAll(\"a\", href=re.compile(serie_a_g6_2017)):\n",
    "                if \"href\" in link.attrs:\n",
    "                    if link.attrs['href'] not in paginas and link.attrs['href'] not in paginas_invalidas:\n",
    "                        nova_pagina = link.attrs['href']\n",
    "                        print(nova_pagina)\n",
    "                        paginas.add(nova_pagina)\n",
    "                        getLinks(nova_pagina)\n",
    "    except:\n",
    "        paginas_invalidas.add(nova_pagina)\n",
    "\n",
    "getLinks(\"https://coronavirus.saude.gov.br/\")"
   ]
  },
  {
   "cell_type": "code",
   "execution_count": null,
   "metadata": {},
   "outputs": [],
   "source": []
  }
 ],
 "metadata": {
  "kernelspec": {
   "display_name": "Python 3",
   "language": "python",
   "name": "python3"
  },
  "language_info": {
   "codemirror_mode": {
    "name": "ipython",
    "version": 3
   },
   "file_extension": ".py",
   "mimetype": "text/x-python",
   "name": "python",
   "nbconvert_exporter": "python",
   "pygments_lexer": "ipython3",
   "version": "3.7.4"
  }
 },
 "nbformat": 4,
 "nbformat_minor": 2
}
