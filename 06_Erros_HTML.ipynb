{
 "cells": [
  {
   "cell_type": "code",
   "execution_count": 3,
   "metadata": {},
   "outputs": [
    {
     "name": "stdout",
     "output_type": "stream",
     "text": [
      "Informe a URL: www.metodosexatos.com\n",
      "Ocorreu um erro ao acessar a página.\n",
      "Título não encontrado.\n"
     ]
    }
   ],
   "source": [
    "from urllib.request import urlopen\n",
    "from urllib.error import HTTPError, URLError\n",
    "from bs4 import BeautifulSoup\n",
    "\n",
    "def getTitulo(url):\n",
    "    try:\n",
    "        html = urlopen(url)\n",
    "    except HTTPError as erro:\n",
    "        print(f\"Ocorreu um erro HTTP: {erro}\")\n",
    "        return None\n",
    "    except URLError as erro:\n",
    "        print(f\"Ocorreu um erro de URL: {erro}\")\n",
    "        return None\n",
    "    except:\n",
    "        print(f\"Ocorreu um erro ao acessar a página.\")\n",
    "        return None\n",
    "\n",
    "    try:\n",
    "        bsObj = BeautifulSoup(html.read(), \"html.parser\")\n",
    "        titulo = bsObj.body.h1\n",
    "    except AttributeError as erro:\n",
    "        print(f\"Ocorreu um erro ao acessar o atributo.\")\n",
    "        return None\n",
    "    except:\n",
    "        print(f\"Ocorreu um erro ao acessar os atributos.\")\n",
    "        return None\n",
    "\n",
    "    return titulo\n",
    "\n",
    "titulo = getTitulo(input(\"Informe a URL: \"))\n",
    "\n",
    "if titulo is None:\n",
    "    print(\"Título não encontrado.\")\n",
    "else:\n",
    "    print(titulo)"
   ]
  },
  {
   "cell_type": "code",
   "execution_count": null,
   "metadata": {},
   "outputs": [],
   "source": []
  }
 ],
 "metadata": {
  "kernelspec": {
   "display_name": "Python 3",
   "language": "python",
   "name": "python3"
  },
  "language_info": {
   "codemirror_mode": {
    "name": "ipython",
    "version": 3
   },
   "file_extension": ".py",
   "mimetype": "text/x-python",
   "name": "python",
   "nbconvert_exporter": "python",
   "pygments_lexer": "ipython3",
   "version": "3.7.4"
  }
 },
 "nbformat": 4,
 "nbformat_minor": 2
}
